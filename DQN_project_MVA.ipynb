{
 "cells": [
  {
   "cell_type": "markdown",
   "metadata": {},
   "source": [
    "**You may need to install [OpenCV](https://pypi.python.org/pypi/opencv-python) and [scikit-video](http://www.scikit-video.org/stable/).**"
   ]
  },
  {
   "cell_type": "code",
   "execution_count": 1,
   "metadata": {},
   "outputs": [
    {
     "name": "stderr",
     "output_type": "stream",
     "text": [
      "Using TensorFlow backend.\n"
     ]
    }
   ],
   "source": [
    "import keras\n",
    "import numpy as np\n",
    "import io\n",
    "import base64\n",
    "from IPython.display import HTML\n",
    "import skvideo.io\n",
    "import cv2\n",
    "import json\n",
    "\n",
    "from keras.models import Sequential,model_from_json\n",
    "from keras.layers.core import Dense\n",
    "from keras.optimizers import sgd, adam\n",
    "from keras.layers import Input, Conv2D, MaxPooling2D, Activation, AveragePooling2D,Reshape,BatchNormalization, Dropout, Flatten"
   ]
  },
  {
   "cell_type": "markdown",
   "metadata": {},
   "source": [
    "# MiniProject on Deep Reinforcement Learning"
   ]
  },
  {
   "cell_type": "markdown",
   "metadata": {},
   "source": [
    "__Notations__: $E_p$ is the expectation under probability $p$. Please justify each of your answer and widely comment your code."
   ]
  },
  {
   "cell_type": "markdown",
   "metadata": {},
   "source": [
    "# Context"
   ]
  },
  {
   "cell_type": "markdown",
   "metadata": {},
   "source": [
    "In a reinforcement learning algorithm, we modelize each step $t$ as an action $a_t$ obtained from a state $s_t$, i.e. $\\{(a_{t},s_{t})_{t\\leq T}\\}$ having the Markov property. We consider a discount factor $\\gamma \\in [0,1]$ that ensures convergence. The goal is to find among all the policies $\\pi$, one that maximizes the expected reward:\n",
    "\n",
    "\\begin{equation*}\n",
    "R(\\pi)=\\sum_{t\\leq T}E_{p^{\\pi}}[\\gamma^t r(s_{t},a_{t})] \\> ,\n",
    "\\end{equation*}\n",
    "\n",
    "where: \n",
    "\\begin{equation*}p^{\\pi}(a_{0},a_{1},s_{1},...,a_{T},s_{T})=p(a_{0})\\prod_{t=1}^{T}\\pi(a_{t}|s_{t})p(s_{t+1}|s_{t},a_{t}) \\> .\n",
    "\\end{equation*}\n",
    "\n",
    "We note the $Q$-function:\n",
    "\n",
    "\\begin{equation*}Q^\\pi(s,a)=E_{p^{\\pi}}[\\sum_{t\\leq T}\\gamma^{t}r(s_{t},a_{t})|s_{0}=s,a_{0}=a] \\> .\n",
    "\\end{equation*}\n",
    "\n",
    "Thus, the optimal Q function is:\n",
    "\\begin{equation*}\n",
    "Q^*(s,a)=\\max_{\\pi}Q^\\pi(s,a) \\> .\n",
    "\\end{equation*}\n",
    "\n",
    "In this project, we will apply the deep reinforcement learning techniques to a simple game: an agent will have to learn from scratch a policy that will permit it maximizing a reward."
   ]
  },
  {
   "cell_type": "markdown",
   "metadata": {},
   "source": [
    "## The environment, the agent and the game"
   ]
  },
  {
   "cell_type": "markdown",
   "metadata": {},
   "source": [
    "### The environment"
   ]
  },
  {
   "cell_type": "markdown",
   "metadata": {},
   "source": [
    "```Environment``` is an abstract class that represents the states, rewards, and actions to obtain the new state."
   ]
  },
  {
   "cell_type": "code",
   "execution_count": 2,
   "metadata": {},
   "outputs": [],
   "source": [
    "class Environment(object):\n",
    "    def __init__(self):\n",
    "        pass\n",
    "\n",
    "    def act(self, act):\n",
    "        \"\"\"\n",
    "        One can act on the environment and obtain its reaction:\n",
    "        - the new state\n",
    "        - the reward of the new state\n",
    "        - should we continue the game?\n",
    "\n",
    "        :return: state, reward, game_over\n",
    "        \"\"\"\n",
    "        pass\n",
    "\n",
    "\n",
    "    def reset(self):\n",
    "        \"\"\"\n",
    "        Reinitialize the environment to a random state and returns\n",
    "        the original state\n",
    "\n",
    "        :return: state\n",
    "        \"\"\"\n",
    "        pass\n",
    "    \n",
    "    def draw(self):\n",
    "        \"\"\"\n",
    "        Visualize in the console or graphically the current state\n",
    "        \"\"\"\n",
    "        pass"
   ]
  },
  {
   "cell_type": "markdown",
   "metadata": {},
   "source": [
    "The method ```act``` allows to act on the environment at a given state $s_t$ (stored internally), via action $a_t$. The method will return the new state $s_{t+1}$, the reward $r(s_{t},a_{t})$ and determines if $t\\leq T$ (*game_over*).\n",
    "\n",
    "The method ```reset``` simply reinitializes the environment to a random state $s_0$.\n",
    "\n",
    "The method ```draw``` displays the current state $s_t$ (this is useful to check the behavior of the Agent).\n",
    "\n",
    "We modelize $s_t$ as a tensor, while $a_t$ is an integer."
   ]
  },
  {
   "cell_type": "markdown",
   "metadata": {},
   "source": [
    "### The Agent"
   ]
  },
  {
   "cell_type": "markdown",
   "metadata": {},
   "source": [
    "The goal of the ```Agent``` is to interact with the ```Environment``` by proposing actions $a_t$ obtained from a given state $s_t$ to attempt to maximize its __reward__ $r(s_t,a_t)$. We propose the following abstract class:"
   ]
  },
  {
   "cell_type": "code",
   "execution_count": 3,
   "metadata": {},
   "outputs": [],
   "source": [
    "class Agent(object):\n",
    "    def __init__(self, epsilon=0.1, n_action=4):\n",
    "        self.epsilon = epsilon\n",
    "        self.n_action = n_action\n",
    "    \n",
    "    def set_epsilon(self,e):\n",
    "        self.epsilon = e\n",
    "\n",
    "    def act(self,s,train=True):\n",
    "        \"\"\" This function should return the next action to do:\n",
    "        an integer between 0 and 4 (not included) with a random exploration of epsilon\"\"\"\n",
    "        if train:\n",
    "            if np.random.rand() <= self.epsilon:\n",
    "                a = np.random.randint(0, self.n_action, size=1)[0]\n",
    "            else:\n",
    "                a = self.learned_act(s)\n",
    "        else: # in some cases, this can improve the performance.. remove it if poor performances\n",
    "            a = self.learned_act(s)\n",
    "\n",
    "        return a\n",
    "\n",
    "    def learned_act(self,s):\n",
    "        \"\"\" Act via the policy of the agent, from a given state s\n",
    "        it proposes an action a\"\"\"\n",
    "        pass\n",
    "\n",
    "    def reinforce(self, s, n_s, a, r, game_over_):\n",
    "        \"\"\" This function is the core of the learning algorithm. \n",
    "        It takes as an input the current state s_, the next state n_s_\n",
    "        the action a_ used to move from s_ to n_s_ and the reward r_.\n",
    "        \n",
    "        Its goal is to learn a policy.\n",
    "        \"\"\"\n",
    "        pass\n",
    "\n",
    "    def save(self):\n",
    "        \"\"\" This function returns basic stats if applicable: the\n",
    "        loss and/or the model\"\"\"\n",
    "        pass\n",
    "\n",
    "    def load(self):\n",
    "        \"\"\" This function allows to restore a model\"\"\"\n",
    "        pass"
   ]
  },
  {
   "cell_type": "markdown",
   "metadata": {},
   "source": [
    "***\n",
    "__Question 1__:\n",
    "Explain the function act. Why is ```epsilon``` essential?"
   ]
  },
  {
   "cell_type": "markdown",
   "metadata": {},
   "source": [
    "In the function act, the Agent is about to take a decision on how to interract with the environment. There are 2 cases. Either he will use a learned action or try to explore a new solution. Epsilon is controlling the will of the agent to try new option. If the training is over, he will of course icked what he learned beforehand."
   ]
  },
  {
   "cell_type": "markdown",
   "metadata": {},
   "source": [
    "***\n",
    "### The Game"
   ]
  },
  {
   "cell_type": "markdown",
   "metadata": {},
   "source": [
    "The ```Agent``` and the ```Environment``` work in an interlaced way as in the following (take some time to understand this code as it is the core of the project)\n",
    "\n",
    "```python\n",
    "\n",
    "epoch = 300\n",
    "env = Environment()\n",
    "agent = Agent()\n",
    "\n",
    "\n",
    "# Number of won games\n",
    "score = 0\n",
    "loss = 0\n",
    "\n",
    "\n",
    "for e in range(epoch):\n",
    "    # At each epoch, we restart to a fresh game and get the initial state\n",
    "    state = env.reset()\n",
    "    # This assumes that the games will end\n",
    "    game_over = False\n",
    "\n",
    "    win = 0\n",
    "    lose = 0\n",
    "    \n",
    "    while not game_over:\n",
    "        # The agent performs an action\n",
    "        action = agent.act(state)\n",
    "\n",
    "        # Apply an action to the environment, get the next state, the reward\n",
    "        # and if the games end\n",
    "        prev_state = state\n",
    "        state, reward, game_over = env.act(action)\n",
    "\n",
    "        # Update the counters\n",
    "        if reward > 0:\n",
    "            win = win + reward\n",
    "        if reward < 0:\n",
    "            lose = lose -reward\n",
    "\n",
    "        # Apply the reinforcement strategy\n",
    "        loss = agent.reinforce(prev_state, state,  action, reward, game_over)\n",
    "\n",
    "    # Save as a mp4\n",
    "    if e % 10 == 0:\n",
    "        env.draw(e)\n",
    "\n",
    "    # Update stats\n",
    "    score += win-lose\n",
    "\n",
    "    print(\"Epoch {:03d}/{:03d} | Loss {:.4f} | Win/lose count {}/{} ({})\"\n",
    "          .format(e, epoch, loss, win, lose, win-lose))\n",
    "    agent.save()\n",
    "```"
   ]
  },
  {
   "cell_type": "markdown",
   "metadata": {},
   "source": [
    "# The game, *eat cheese*"
   ]
  },
  {
   "cell_type": "markdown",
   "metadata": {},
   "source": [
    "A rat runs on an island and tries to eat as much as possible. The island is subdivided into $N\\times N$ cells, in which there are cheese (+0.5) and poisonous cells (-1). The rat has a visibility of 2 cells (thus it can see $5^2$ cells). The rat is given a time $T$ to accumulate as much food as possible. It can perform 4 actions: going up, down, left, right. \n",
    "\n",
    "The goal is to code an agent to solve this task that will learn by trial and error. We propose the following environment:"
   ]
  },
  {
   "cell_type": "code",
   "execution_count": 4,
   "metadata": {},
   "outputs": [],
   "source": [
    "class Environment(object):\n",
    "    def __init__(self, grid_size=10, max_time=500, temperature=0.1):\n",
    "        grid_size = grid_size+4\n",
    "        self.grid_size = grid_size\n",
    "        self.max_time = max_time\n",
    "        self.temperature = temperature\n",
    "\n",
    "        #board on which one plays\n",
    "        self.board = np.zeros((grid_size,grid_size))\n",
    "        self.position = np.zeros((grid_size,grid_size))\n",
    "\n",
    "        # coordinate of the cat\n",
    "        self.x = 0\n",
    "        self.y = 1\n",
    "\n",
    "        # self time\n",
    "        self.t = 0\n",
    "\n",
    "        self.scale=16\n",
    "\n",
    "        self.to_draw = np.zeros((max_time+2, grid_size*self.scale, grid_size*self.scale, 3))\n",
    "\n",
    "\n",
    "    def draw(self,e):\n",
    "        skvideo.io.vwrite(str(e) + '.mp4', self.to_draw)\n",
    "\n",
    "    def get_frame(self,t):\n",
    "        b = np.zeros((self.grid_size,self.grid_size,3))+128\n",
    "        b[self.board>0,0] = 256\n",
    "        b[self.board < 0, 2] = 256\n",
    "        b[self.x,self.y,:]=256\n",
    "        b[-2:,:,:]=0\n",
    "        b[:,-2:,:]=0\n",
    "        b[:2,:,:]=0\n",
    "        b[:,:2,:]=0\n",
    "        \n",
    "        b =  cv2.resize(b, None, fx=self.scale, fy=self.scale, interpolation=cv2.INTER_NEAREST)\n",
    "\n",
    "        self.to_draw[t,:,:,:]=b\n",
    "\n",
    "\n",
    "    def act(self, action):\n",
    "        \"\"\"This function returns the new state, reward and decides if the\n",
    "        game ends.\"\"\"\n",
    "\n",
    "        self.get_frame(int(self.t))\n",
    "\n",
    "        self.position = np.zeros((self.grid_size, self.grid_size))\n",
    "\n",
    "        self.position[0:2,:]= -1\n",
    "        self.position[:,0:2] = -1\n",
    "        self.position[-2:, :] = -1\n",
    "        self.position[-2:, :] = -1\n",
    "\n",
    "        self.position[self.x, self.y] = 1\n",
    "        if action == 0:\n",
    "            if self.x == self.grid_size-3:\n",
    "                self.x = self.x-1\n",
    "            else:\n",
    "                self.x = self.x + 1\n",
    "        elif action == 1:\n",
    "            if self.x == 2:\n",
    "                self.x = self.x+1\n",
    "            else:\n",
    "                self.x = self.x-1\n",
    "        elif action == 2:\n",
    "            if self.y == self.grid_size - 3:\n",
    "                self.y = self.y - 1\n",
    "            else:\n",
    "                self.y = self.y + 1\n",
    "        elif action == 3:\n",
    "            if self.y == 2:\n",
    "                self.y = self.y + 1\n",
    "            else:\n",
    "                self.y = self.y - 1\n",
    "        else:\n",
    "            RuntimeError('Error: action not recognized')\n",
    "\n",
    "        self.t = self.t + 1\n",
    "        reward = self.board[self.x, self.y]\n",
    "        self.board[self.x, self.y] = 0\n",
    "        game_over = self.t > self.max_time\n",
    "        state = np.concatenate((self.board.reshape(self.grid_size, self.grid_size,1),\n",
    "                        self.position.reshape(self.grid_size, self.grid_size,1)),axis=2)\n",
    "        state = state[self.x-2:self.x+3,self.y-2:self.y+3,:]\n",
    "\n",
    "        return state, reward, game_over\n",
    "\n",
    "    def reset(self):\n",
    "        \"\"\"This function resets the game and returns the initial state\"\"\"\n",
    "\n",
    "        self.x = np.random.randint(3, self.grid_size-3, size=1)[0]\n",
    "        self.y = np.random.randint(3, self.grid_size-3, size=1)[0]\n",
    "\n",
    "\n",
    "        bonus = 0.5*np.random.binomial(1,self.temperature,size=self.grid_size**2)\n",
    "        bonus = bonus.reshape(self.grid_size,self.grid_size)\n",
    "\n",
    "        malus = -1.0*np.random.binomial(1,self.temperature,size=self.grid_size**2)\n",
    "        malus = malus.reshape(self.grid_size, self.grid_size)\n",
    "\n",
    "        self.to_draw = np.zeros((self.max_time+2, self.grid_size*self.scale, self.grid_size*self.scale, 3))\n",
    "\n",
    "\n",
    "        malus[bonus>0]=0\n",
    "\n",
    "        self.board = bonus + malus\n",
    "\n",
    "        self.position = np.zeros((self.grid_size, self.grid_size))\n",
    "        self.position[0:2,:]= -1\n",
    "        self.position[:,0:2] = -1\n",
    "        self.position[-2:, :] = -1\n",
    "        self.position[-2:, :] = -1\n",
    "        self.board[self.x,self.y] = 0\n",
    "        self.t = 0\n",
    "\n",
    "        state = np.concatenate((\n",
    "                               self.board.reshape(self.grid_size, self.grid_size,1),\n",
    "                        self.position.reshape(self.grid_size, self.grid_size,1)),axis=2)\n",
    "\n",
    "        state = state[self.x - 2:self.x + 3, self.y - 2:self.y + 3, :]\n",
    "        return state"
   ]
  },
  {
   "cell_type": "markdown",
   "metadata": {},
   "source": [
    "The following elements are important because they correspond to the hyper parameters for this project:"
   ]
  },
  {
   "cell_type": "code",
   "execution_count": 5,
   "metadata": {},
   "outputs": [],
   "source": [
    "# parameters\n",
    "size = 13\n",
    "T=200\n",
    "temperature=0.3\n",
    "epochs_train=100 # set small when debugging\n",
    "epochs_test=3 # set small when debugging\n",
    "\n",
    "# display videos\n",
    "def display_videos(name):\n",
    "    video = io.open(name, 'r+b').read()\n",
    "    encoded = base64.b64encode(video)\n",
    "    return '''<video alt=\"test\" controls>\n",
    "                <source src=\"data:video/mp4;base64,{0}\" type=\"video/mp4\" />\n",
    "             </video>'''.format(encoded.decode('ascii'))"
   ]
  },
  {
   "cell_type": "markdown",
   "metadata": {},
   "source": [
    "__Question 2__ Explain the use of the arrays ```position``` and ```board```."
   ]
  },
  {
   "cell_type": "markdown",
   "metadata": {},
   "source": [
    "## Random Agent"
   ]
  },
  {
   "cell_type": "markdown",
   "metadata": {},
   "source": [
    "***\n",
    "__Question 3__ Implement a random Agent (only ```learned_act``` needs to be implemented):"
   ]
  },
  {
   "cell_type": "code",
   "execution_count": 6,
   "metadata": {},
   "outputs": [],
   "source": [
    "class RandomAgent(Agent):\n",
    "    def __init__(self):\n",
    "        super(RandomAgent, self).__init__()\n",
    "        pass\n",
    "\n",
    "    def learned_act(self, s):\n",
    "        return int(np.random.uniform()*4)"
   ]
  },
  {
   "cell_type": "markdown",
   "metadata": {},
   "source": [
    "***\n",
    "***\n",
    "__Question 4__ Visualize the game moves. You need to fill in the following function for the evaluation:"
   ]
  },
  {
   "cell_type": "code",
   "execution_count": 7,
   "metadata": {},
   "outputs": [],
   "source": [
    "def test(agent,env,epochs,prefix=''):\n",
    "    # Number of won games\n",
    "    score = 0\n",
    "        \n",
    "    for e in range(epochs):\n",
    "        # At each epoch, we restart to a fresh game and get the initial state\n",
    "        state = env.reset()\n",
    "        # This assumes that the games will end\n",
    "        game_over = False\n",
    "\n",
    "        win = 0\n",
    "        lose = 0\n",
    "        while not game_over:\n",
    "                # The agent performs an action\n",
    "                action = agent.act(state)\n",
    "\n",
    "                # Apply an action to the environment, get the next state, the reward\n",
    "                # and if the games end\n",
    "                prev_state = state\n",
    "                state, reward, game_over = env.act(action)\n",
    "\n",
    "                # Update the counters\n",
    "                if reward > 0:\n",
    "                    win = win + reward\n",
    "                if reward < 0:\n",
    "                    lose = lose -reward\n",
    "\n",
    "        # Save as a mp4\n",
    "        env.draw(prefix+str(e))\n",
    "\n",
    "        # Update stats\n",
    "        score = score + win-lose\n",
    "\n",
    "        print(\"Win/lose count {}/{}. Average score ({})\"\n",
    "              .format(win, lose, score/(1+e)))\n",
    "    print('Final score: '+str(score/epochs))"
   ]
  },
  {
   "cell_type": "code",
   "execution_count": 8,
   "metadata": {},
   "outputs": [
    {
     "name": "stdout",
     "output_type": "stream",
     "text": [
      "Win/lose count 9.0/10.0. Average score (-1.0)\n",
      "Win/lose count 12.0/9.0. Average score (1.0)\n",
      "Win/lose count 10.0/3.0. Average score (3.0)\n",
      "Final score: 3.0\n"
     ]
    },
    {
     "data": {
      "text/html": [
       "<video alt=\"test\" controls>\n",
       "                <source src=\"data:video/mp4;base64,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\" type=\"video/mp4\" />\n",
       "             </video>"
      ],
      "text/plain": [
       "<IPython.core.display.HTML object>"
      ]
     },
     "execution_count": 8,
     "metadata": {},
     "output_type": "execute_result"
    }
   ],
   "source": [
    "# Initialize the game\n",
    "env = Environment(grid_size=size, max_time=T,temperature=temperature)\n",
    "\n",
    "# Initialize the agent!\n",
    "agent = RandomAgent()\n",
    "\n",
    "test(agent,env,epochs_test,prefix='random')\n",
    "HTML(display_videos('random0.mp4'))"
   ]
  },
  {
   "cell_type": "markdown",
   "metadata": {},
   "source": [
    "***\n",
    "## DQN"
   ]
  },
  {
   "cell_type": "markdown",
   "metadata": {},
   "source": [
    "Let us assume here that $T=\\infty$.\n",
    "\n",
    "***\n",
    "__Question 5__ Let $\\pi$ be a policy, show that:\n",
    "\n",
    "$$\n",
    "\\begin{equation*}\n",
    "Q^{\\pi}(s,a)=E_{(s',a')\\sim p(.|s,a)}[r(s,a)+\\gamma Q^{\\pi}(s',a')]\n",
    "\\end{equation*}\n",
    "$$\n",
    "Then, show that for the optimal policy $\\pi^*$ (we assume its existence), the following holds: \n",
    "$$\n",
    "\\begin{equation*}\n",
    "Q^{*}(s,a)=E_{s'\\sim \\pi^*(.|s,a)}[r(s,a)+\\gamma\\max_{a'}Q^{*}(s',a')].\n",
    "\\end{equation*}\n",
    "$$\n",
    "Finally, deduce that a plausible objective is:\n",
    "\n",
    "$$\n",
    "\\begin{equation*}\n",
    "\\mathcal{L}(\\theta)=E_{s' \\sim \\pi^*(.|s,a)}\\Vert r+\\gamma\\max_{a'}Q(s',a',\\theta)-Q(s,a,\\theta)\\Vert^{2}.\n",
    "\\end{equation*}\n",
    "$$\n",
    "\n",
    "\n"
   ]
  },
  {
   "cell_type": "markdown",
   "metadata": {},
   "source": [
    "We can write Q as :\n",
    "$$\n",
    "Q^\\pi(s,a) = r(s,a) + \\gamma \\mathbb E_{p^\\pi}[\\sum_{t=1} \\gamma^{t-1}r(s_t,a_t) | s_1=s, a_1=a]\n",
    "$$\n",
    "\n",
    "Which means that immediately :\n",
    "$$\n",
    "      Q^\\pi(s,a)  = r(s,a) + \\gamma \\mathbb E_{(s',a')\\sim p(\\cdot|s,a)}[\\mathbb E_{p^\\pi}[\\sum_{t=0} \\gamma^{t}r(s_t,a_t) | s_0=s', a_0=a']]\n",
    "$$\n",
    "$$\n",
    "      Q^\\pi(s,a)  = r(s,a) + \\gamma \\mathbb E_{(s',a')\\sim p(\\cdot|s,a)}[Q^\\pi(s',a')]\n",
    "$$\n",
    "By substituing Q with its max we have :\n",
    "$$\n",
    "      Q^*(s,a)  = r(s,a) + \\gamma \\mathbb E_{s'\\sim \\pi^*(\\cdot |s,a)}[max_{a'}Q^*(s',a')]\n",
    "$$\n",
    "Which is what we wanted.\n",
    "The loss is the Bellman error which is standard in reinforcement learning."
   ]
  },
  {
   "cell_type": "markdown",
   "metadata": {},
   "source": [
    "***\n",
    "The DQN-learning algorithm relies on these derivations to train the parameters $\\theta$ of a Deep Neural Network:\n",
    "\n",
    "1. At the state $s_t$, select the action $a_t$ with best reward using $Q_t$ and store the results;\n",
    "\n",
    "2. Obtain the new state $s_{t+1}$ from the environment $p$;\n",
    "\n",
    "3. Store $(s_t,a_t,s_{t+1})$;\n",
    "\n",
    "4. Obtain $Q_{t+1}$ by minimizing  $\\mathcal{L}$ from a recovered batch from the previously stored results.\n",
    "\n",
    "***\n",
    "__Question 6__ Implement the class ```Memory``` that stores moves (in a replay buffer) via ```remember``` and provides a ```random_access``` to these. Specify a maximum memory size to avoid side effects. You can for example use a ```list()``` and set by default ```max_memory=100```."
   ]
  },
  {
   "cell_type": "code",
   "execution_count": 9,
   "metadata": {},
   "outputs": [],
   "source": [
    "class Memory(object):\n",
    "    def __init__(self, max_memory=100):\n",
    "        self.max_memory = max_memory\n",
    "        self.memory = list()\n",
    "\n",
    "    def remember(self, m):\n",
    "        if len(self.memory) == self.max_memory:\n",
    "            self.memory = self.memory[1:]\n",
    "        self.memory.append(m)\n",
    "\n",
    "    def random_access(self):\n",
    "        return self.memory[np.random.choice(np.arange(len(self.memory)),1)[0]]"
   ]
  },
  {
   "cell_type": "markdown",
   "metadata": {},
   "source": [
    "***\n",
    "The pipeline we will use for training is given below:"
   ]
  },
  {
   "cell_type": "code",
   "execution_count": 10,
   "metadata": {},
   "outputs": [],
   "source": [
    "def train(agent,env,epoch,prefix=''):\n",
    "    # Number of won games\n",
    "    score = 0\n",
    "    loss = 0\n",
    "    wins = []\n",
    "    losses = []\n",
    "    for e in range(epoch):\n",
    "        # At each epoch, we restart to a fresh game and get the initial state\n",
    "        state = env.reset()\n",
    "        # This assumes that the games will terminate\n",
    "        game_over = False\n",
    "\n",
    "        win = 0\n",
    "        lose = 0\n",
    "\n",
    "        while not game_over:\n",
    "            # The agent performs an action\n",
    "            action = agent.act(state)\n",
    "\n",
    "            # Apply an action to the environment, get the next state, the reward\n",
    "            # and if the games end\n",
    "            prev_state = state\n",
    "            state, reward, game_over = env.act(action)\n",
    "\n",
    "            # Update the counters\n",
    "            if reward > 0:\n",
    "                win = win + reward\n",
    "            if reward < 0:\n",
    "                lose = lose -reward\n",
    "\n",
    "            # Apply the reinforcement strategy\n",
    "            loss = agent.reinforce(prev_state, state,  action, reward, game_over)\n",
    "\n",
    "        # Save as a mp4\n",
    "        if e % 10 == 0:\n",
    "            env.draw(prefix+str(e))\n",
    "\n",
    "        # Update stats\n",
    "        score += win-lose\n",
    "\n",
    "        print(\"Epoch {:03d}/{:03d} | Loss {:.4f} | Win/lose count {}/{} ({})\"\n",
    "              .format(e, epoch, loss, win, lose, win-lose))\n",
    "        agent.save(name_weights=prefix+'model.h5',name_model=prefix+'model.json')\n",
    "        wins.append(win)\n",
    "        losses.append(lose)\n",
    "    return wins, losses"
   ]
  },
  {
   "cell_type": "markdown",
   "metadata": {},
   "source": [
    "***\n",
    "__Question 7__ Implement the DQN training algorithm using a cascade of fully connected layers. You can use different learning rate, batch size or memory size parameters. In particular, the loss might oscillate while the player will start to win the games. You have to find a good criterium."
   ]
  },
  {
   "cell_type": "code",
   "execution_count": 11,
   "metadata": {},
   "outputs": [],
   "source": [
    "class DQN(Agent):\n",
    "    def __init__(self, grid_size,  epsilon = 0.1, memory_size=100, batch_size = 16,n_state=2):\n",
    "        super(DQN, self).__init__(epsilon = epsilon)\n",
    "\n",
    "        # Discount for Q learning\n",
    "        self.discount = 0.99\n",
    "        \n",
    "        self.grid_size = grid_size\n",
    "        \n",
    "        # number of state\n",
    "        self.n_state = n_state\n",
    "\n",
    "        # Memory\n",
    "        self.memory = Memory(memory_size)\n",
    "        \n",
    "        # Batch size when learning\n",
    "        self.batch_size = batch_size\n",
    "\n",
    "        self.gamma = 0.99\n",
    "\n",
    "    def learned_act(self, s):\n",
    "        return np.argmax(self.model.predict(s.reshape(-1,5,5,self.n_state))[0])\n",
    "\n",
    "    def reinforce(self, s_, n_s_, a_, r_, game_over_):\n",
    "        # Two steps: first memorize the states, second learn from the pool\n",
    "\n",
    "        self.memory.remember([s_, n_s_, a_, r_, game_over_])\n",
    "        \n",
    "        input_states = np.zeros((self.batch_size, 5,5,self.n_state))\n",
    "        target_q = np.zeros((self.batch_size, 4))\n",
    "        \n",
    "        for i in range(self.batch_size):\n",
    "            [s, n_s, a, r, game_over] = self.memory.random_access()\n",
    "            if game_over_:\n",
    "                target = r\n",
    "            else:\n",
    "                target = (r + self.gamma * np.max(self.model.predict(s.reshape(-1,5,5,self.n_state))[0]))\n",
    "\n",
    "            input_states[i] = s\n",
    "            target_q[i,a] = target\n",
    "        # HINT: Clip the target to avoid exploiding gradients.. -- clipping is a bit tighter\n",
    "        target_q = np.clip(target_q, -3, 3)\n",
    "        l = self.model.train_on_batch(input_states, target_q)\n",
    "\n",
    "\n",
    "        return l\n",
    "\n",
    "    def save(self,name_weights='model.h5',name_model='model.json'):\n",
    "        self.model.save_weights(name_weights, overwrite=True)\n",
    "        with open(name_model, \"w\") as outfile:\n",
    "            json.dump(self.model.to_json(), outfile)\n",
    "            \n",
    "    def load(self,name_weights='model.h5',name_model='model.json'):\n",
    "        with open(name_model, \"r\") as jfile:\n",
    "            model = model_from_json(json.load(jfile))\n",
    "        model.load_weights(name_weights)\n",
    "        model.compile(\"adam\", \"mse\")\n",
    "        self.model = model\n",
    "\n",
    "            \n",
    "class DQN_FC(DQN):\n",
    "    def __init__(self, *args, lr=0.1,**kwargs):\n",
    "        super(DQN_FC, self).__init__( *args,**kwargs)\n",
    "        \n",
    "        # NN Model\n",
    "        model = Sequential()\n",
    "        model.add(Flatten(input_shape=(5,5,self.n_state)))\n",
    "        model.add(Dense(80, activation='relu'))\n",
    "        model.add(Dense(32, activation='relu'))\n",
    "        model.add(Dense(4, activation='linear'))\n",
    "        model.compile(adam(lr=lr), \"mse\")\n",
    "        self.model = model\n",
    "        "
   ]
  },
  {
   "cell_type": "code",
   "execution_count": 12,
   "metadata": {},
   "outputs": [
    {
     "name": "stdout",
     "output_type": "stream",
     "text": [
      "WARNING:tensorflow:From /home/jules/anaconda3/lib/python3.7/site-packages/keras/backend/tensorflow_backend.py:74: The name tf.get_default_graph is deprecated. Please use tf.compat.v1.get_default_graph instead.\n",
      "\n",
      "WARNING:tensorflow:From /home/jules/anaconda3/lib/python3.7/site-packages/keras/backend/tensorflow_backend.py:517: The name tf.placeholder is deprecated. Please use tf.compat.v1.placeholder instead.\n",
      "\n",
      "WARNING:tensorflow:From /home/jules/anaconda3/lib/python3.7/site-packages/keras/backend/tensorflow_backend.py:4138: The name tf.random_uniform is deprecated. Please use tf.random.uniform instead.\n",
      "\n",
      "WARNING:tensorflow:From /home/jules/anaconda3/lib/python3.7/site-packages/keras/optimizers.py:790: The name tf.train.Optimizer is deprecated. Please use tf.compat.v1.train.Optimizer instead.\n",
      "\n",
      "WARNING:tensorflow:From /home/jules/anaconda3/lib/python3.7/site-packages/keras/backend/tensorflow_backend.py:2741: The name tf.Session is deprecated. Please use tf.compat.v1.Session instead.\n",
      "\n",
      "WARNING:tensorflow:From /home/jules/anaconda3/lib/python3.7/site-packages/keras/backend/tensorflow_backend.py:174: The name tf.get_default_session is deprecated. Please use tf.compat.v1.get_default_session instead.\n",
      "\n",
      "WARNING:tensorflow:From /home/jules/anaconda3/lib/python3.7/site-packages/keras/backend/tensorflow_backend.py:181: The name tf.ConfigProto is deprecated. Please use tf.compat.v1.ConfigProto instead.\n",
      "\n",
      "WARNING:tensorflow:From /home/jules/anaconda3/lib/python3.7/site-packages/keras/backend/tensorflow_backend.py:190: The name tf.global_variables is deprecated. Please use tf.compat.v1.global_variables instead.\n",
      "\n",
      "WARNING:tensorflow:From /home/jules/anaconda3/lib/python3.7/site-packages/keras/backend/tensorflow_backend.py:199: The name tf.is_variable_initialized is deprecated. Please use tf.compat.v1.is_variable_initialized instead.\n",
      "\n",
      "WARNING:tensorflow:From /home/jules/anaconda3/lib/python3.7/site-packages/keras/backend/tensorflow_backend.py:206: The name tf.variables_initializer is deprecated. Please use tf.compat.v1.variables_initializer instead.\n",
      "\n",
      "WARNING:tensorflow:From /home/jules/anaconda3/lib/python3.7/site-packages/keras/backend/tensorflow_backend.py:986: The name tf.assign_add is deprecated. Please use tf.compat.v1.assign_add instead.\n",
      "\n",
      "WARNING:tensorflow:From /home/jules/anaconda3/lib/python3.7/site-packages/keras/backend/tensorflow_backend.py:973: The name tf.assign is deprecated. Please use tf.compat.v1.assign instead.\n",
      "\n",
      "Epoch 000/100 | Loss 0.0100 | Win/lose count 1.0/2.0 (-1.0)\n",
      "Epoch 001/100 | Loss 0.0059 | Win/lose count 4.0/5.0 (-1.0)\n",
      "Epoch 002/100 | Loss 0.0141 | Win/lose count 5.0/8.0 (-3.0)\n",
      "Epoch 003/100 | Loss 0.0078 | Win/lose count 4.5/6.0 (-1.5)\n",
      "Epoch 004/100 | Loss 0.0149 | Win/lose count 3.5/3.0 (0.5)\n",
      "Epoch 005/100 | Loss 0.0243 | Win/lose count 4.0/1.0 (3.0)\n",
      "Epoch 006/100 | Loss 0.0159 | Win/lose count 3.5/5.0 (-1.5)\n",
      "Epoch 007/100 | Loss 0.0139 | Win/lose count 1.5/6.0 (-4.5)\n",
      "Epoch 008/100 | Loss 0.0108 | Win/lose count 3.5/3.0 (0.5)\n",
      "Epoch 009/100 | Loss 0.0065 | Win/lose count 5.0/9.0 (-4.0)\n",
      "Epoch 010/100 | Loss 0.0215 | Win/lose count 10.5/4.0 (6.5)\n",
      "Epoch 011/100 | Loss 0.0109 | Win/lose count 1.5/3.0 (-1.5)\n",
      "Epoch 012/100 | Loss 0.0267 | Win/lose count 1.0/1.0 (0.0)\n",
      "Epoch 013/100 | Loss 0.0156 | Win/lose count 4.0/1.0 (3.0)\n",
      "Epoch 014/100 | Loss 0.0211 | Win/lose count 8.0/6.0 (2.0)\n",
      "Epoch 015/100 | Loss 0.0170 | Win/lose count 7.5/5.0 (2.5)\n",
      "Epoch 016/100 | Loss 0.0258 | Win/lose count 3.0/2.0 (1.0)\n",
      "Epoch 017/100 | Loss 0.0272 | Win/lose count 3.5/4.0 (-0.5)\n",
      "Epoch 018/100 | Loss 0.0671 | Win/lose count 6.0/4.0 (2.0)\n",
      "Epoch 019/100 | Loss 0.0245 | Win/lose count 3.5/4.0 (-0.5)\n",
      "Epoch 020/100 | Loss 0.0354 | Win/lose count 6.5/2.0 (4.5)\n",
      "Epoch 021/100 | Loss 0.0164 | Win/lose count 6.0/4.0 (2.0)\n",
      "Epoch 022/100 | Loss 0.0051 | Win/lose count 5.0/1.0 (4.0)\n",
      "Epoch 023/100 | Loss 0.0983 | Win/lose count 3.5/3.0 (0.5)\n",
      "Epoch 024/100 | Loss 0.0279 | Win/lose count 4.5/1.0 (3.5)\n",
      "Epoch 025/100 | Loss 0.0084 | Win/lose count 4.0/6.0 (-2.0)\n",
      "Epoch 026/100 | Loss 0.0723 | Win/lose count 1.5/1.0 (0.5)\n",
      "Epoch 027/100 | Loss 0.0146 | Win/lose count 2.5/3.0 (-0.5)\n",
      "Epoch 028/100 | Loss 0.0084 | Win/lose count 6.0/6.0 (0.0)\n",
      "Epoch 029/100 | Loss 0.0195 | Win/lose count 4.0/5.0 (-1.0)\n",
      "Epoch 030/100 | Loss 0.0342 | Win/lose count 4.5/0 (4.5)\n",
      "Epoch 031/100 | Loss 0.0066 | Win/lose count 6.0/4.0 (2.0)\n",
      "Epoch 032/100 | Loss 0.0352 | Win/lose count 6.5/6.0 (0.5)\n",
      "Epoch 033/100 | Loss 0.1385 | Win/lose count 12.5/2.0 (10.5)\n",
      "Epoch 034/100 | Loss 0.0501 | Win/lose count 2.0/2.0 (0.0)\n",
      "Epoch 035/100 | Loss 0.0441 | Win/lose count 8.0/4.0 (4.0)\n",
      "Epoch 036/100 | Loss 0.1296 | Win/lose count 5.5/6.0 (-0.5)\n",
      "Epoch 037/100 | Loss 0.1520 | Win/lose count 2.0/3.0 (-1.0)\n",
      "Epoch 038/100 | Loss 0.0181 | Win/lose count 5.5/2.0 (3.5)\n",
      "Epoch 039/100 | Loss 0.0621 | Win/lose count 6.5/3.0 (3.5)\n",
      "Epoch 040/100 | Loss 0.0166 | Win/lose count 5.0/3.0 (2.0)\n",
      "Epoch 041/100 | Loss 0.0120 | Win/lose count 5.0/6.0 (-1.0)\n",
      "Epoch 042/100 | Loss 0.0185 | Win/lose count 3.5/2.0 (1.5)\n",
      "Epoch 043/100 | Loss 0.0764 | Win/lose count 5.0/3.0 (2.0)\n",
      "Epoch 044/100 | Loss 0.0686 | Win/lose count 4.0/0 (4.0)\n",
      "Epoch 045/100 | Loss 0.0211 | Win/lose count 5.0/2.0 (3.0)\n",
      "Epoch 046/100 | Loss 0.0273 | Win/lose count 7.0/2.0 (5.0)\n",
      "Epoch 047/100 | Loss 0.0229 | Win/lose count 7.0/2.0 (5.0)\n",
      "Epoch 048/100 | Loss 0.0395 | Win/lose count 3.5/1.0 (2.5)\n",
      "Epoch 049/100 | Loss 0.0526 | Win/lose count 7.5/3.0 (4.5)\n",
      "Epoch 050/100 | Loss 0.0579 | Win/lose count 4.0/3.0 (1.0)\n",
      "Epoch 051/100 | Loss 0.0586 | Win/lose count 4.0/4.0 (0.0)\n",
      "Epoch 052/100 | Loss 0.0593 | Win/lose count 3.0/5.0 (-2.0)\n",
      "Epoch 053/100 | Loss 0.0328 | Win/lose count 0.5/1.0 (-0.5)\n",
      "Epoch 054/100 | Loss 0.0322 | Win/lose count 4.0/3.0 (1.0)\n",
      "Epoch 055/100 | Loss 0.0063 | Win/lose count 3.0/1.0 (2.0)\n",
      "Epoch 056/100 | Loss 0.0588 | Win/lose count 9.5/3.0 (6.5)\n",
      "Epoch 057/100 | Loss 0.0220 | Win/lose count 6.5/3.0 (3.5)\n",
      "Epoch 058/100 | Loss 0.1236 | Win/lose count 17.0/7.0 (10.0)\n",
      "Epoch 059/100 | Loss 0.1972 | Win/lose count 6.5/5.0 (1.5)\n",
      "Epoch 060/100 | Loss 0.1674 | Win/lose count 4.0/3.0 (1.0)\n",
      "Epoch 061/100 | Loss 0.1638 | Win/lose count 4.0/5.0 (-1.0)\n",
      "Epoch 062/100 | Loss 0.0235 | Win/lose count 4.5/2.0 (2.5)\n",
      "Epoch 063/100 | Loss 0.0731 | Win/lose count 3.5/4.0 (-0.5)\n",
      "Epoch 064/100 | Loss 0.0166 | Win/lose count 6.5/4.0 (2.5)\n",
      "Epoch 065/100 | Loss 0.0859 | Win/lose count 9.0/3.0 (6.0)\n",
      "Epoch 066/100 | Loss 0.1128 | Win/lose count 11.0/4.0 (7.0)\n",
      "Epoch 067/100 | Loss 0.0243 | Win/lose count 9.5/6.0 (3.5)\n",
      "Epoch 068/100 | Loss 0.0669 | Win/lose count 3.0/8.0 (-5.0)\n",
      "Epoch 069/100 | Loss 0.1946 | Win/lose count 9.0/5.0 (4.0)\n",
      "Epoch 070/100 | Loss 0.2104 | Win/lose count 10.5/8.0 (2.5)\n",
      "Epoch 071/100 | Loss 0.0551 | Win/lose count 7.5/6.0 (1.5)\n",
      "Epoch 072/100 | Loss 0.1297 | Win/lose count 5.5/4.0 (1.5)\n",
      "Epoch 073/100 | Loss 0.1731 | Win/lose count 3.0/3.0 (0.0)\n",
      "Epoch 074/100 | Loss 0.0525 | Win/lose count 6.5/0 (6.5)\n",
      "Epoch 075/100 | Loss 0.0474 | Win/lose count 13.0/6.0 (7.0)\n",
      "Epoch 076/100 | Loss 0.0619 | Win/lose count 10.5/3.0 (7.5)\n",
      "Epoch 077/100 | Loss 0.1147 | Win/lose count 5.0/3.0 (2.0)\n",
      "Epoch 078/100 | Loss 0.1664 | Win/lose count 3.5/2.0 (1.5)\n",
      "Epoch 079/100 | Loss 0.2086 | Win/lose count 5.5/1.0 (4.5)\n",
      "Epoch 080/100 | Loss 0.0402 | Win/lose count 6.0/1.0 (5.0)\n",
      "Epoch 081/100 | Loss 0.0094 | Win/lose count 10.0/5.0 (5.0)\n",
      "Epoch 082/100 | Loss 0.0197 | Win/lose count 5.5/5.0 (0.5)\n",
      "Epoch 083/100 | Loss 0.1338 | Win/lose count 7.5/5.0 (2.5)\n",
      "Epoch 084/100 | Loss 0.0922 | Win/lose count 7.0/3.0 (4.0)\n",
      "Epoch 085/100 | Loss 0.1094 | Win/lose count 10.0/4.0 (6.0)\n",
      "Epoch 086/100 | Loss 0.2204 | Win/lose count 6.5/2.0 (4.5)\n",
      "Epoch 087/100 | Loss 0.1232 | Win/lose count 7.0/4.0 (3.0)\n",
      "Epoch 088/100 | Loss 0.1873 | Win/lose count 12.0/3.0 (9.0)\n",
      "Epoch 089/100 | Loss 0.0343 | Win/lose count 6.0/0 (6.0)\n",
      "Epoch 090/100 | Loss 0.0782 | Win/lose count 5.0/5.0 (0.0)\n",
      "Epoch 091/100 | Loss 0.0280 | Win/lose count 9.0/3.0 (6.0)\n",
      "Epoch 092/100 | Loss 0.0224 | Win/lose count 10.0/5.0 (5.0)\n",
      "Epoch 093/100 | Loss 0.1441 | Win/lose count 2.5/1.0 (1.5)\n",
      "Epoch 094/100 | Loss 0.0132 | Win/lose count 6.0/6.0 (0.0)\n",
      "Epoch 095/100 | Loss 0.1534 | Win/lose count 8.5/6.0 (2.5)\n",
      "Epoch 096/100 | Loss 0.1386 | Win/lose count 6.0/7.0 (-1.0)\n"
     ]
    },
    {
     "name": "stdout",
     "output_type": "stream",
     "text": [
      "Epoch 097/100 | Loss 0.0677 | Win/lose count 2.5/5.0 (-2.5)\n",
      "Epoch 098/100 | Loss 0.0321 | Win/lose count 2.5/2.0 (0.5)\n",
      "Epoch 099/100 | Loss 0.1287 | Win/lose count 7.0/3.0 (4.0)\n"
     ]
    },
    {
     "data": {
      "text/html": [
       "<video alt=\"test\" controls>\n",
       "                <source src=\"data:video/mp4;base64,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\" type=\"video/mp4\" />\n",
       "             </video>"
      ],
      "text/plain": [
       "<IPython.core.display.HTML object>"
      ]
     },
     "execution_count": 12,
     "metadata": {},
     "output_type": "execute_result"
    }
   ],
   "source": [
    "env = Environment(grid_size=size, max_time=T, temperature=0.3)\n",
    "agent = DQN_FC(size, lr=.0002, epsilon = 0.1, memory_size=1000, batch_size = 32)\n",
    "w,l = train(agent, env, epochs_train, prefix='fc_train')\n",
    "HTML(display_videos('fc_train70.mp4'))"
   ]
  },
  {
   "cell_type": "code",
   "execution_count": 13,
   "metadata": {},
   "outputs": [
    {
     "data": {
      "text/plain": [
       "[<matplotlib.lines.Line2D at 0x7f1847eefdd0>]"
      ]
     },
     "execution_count": 13,
     "metadata": {},
     "output_type": "execute_result"
    },
    {
     "data": {
      "image/png": "[encoded data removed]",
      "text/plain": [
       "<Figure size 432x288 with 1 Axes>"
      ]
     },
     "metadata": {
      "needs_background": "light"
     },
     "output_type": "display_data"
    }
   ],
   "source": [
    "import matplotlib.pyplot as plt\n",
    "def running_mean(x, N):\n",
    "    cumsum = np.cumsum(np.insert(x, 0, 0)) \n",
    "    return (cumsum[N:] - cumsum[:-N]) / float(N)\n",
    "\n",
    "plt.plot(range(len(w)),w[:2] + list(running_mean(w,5)) + w[-2:])\n",
    "plt.plot(range(len(l)),l[:2] + list(running_mean(l,5)) + l[-2:])\n"
   ]
  },
  {
   "cell_type": "markdown",
   "metadata": {},
   "source": [
    "***\n",
    "***\n",
    "__Question 8__ Implement the DQN training algorithm using a CNN (for example, 2 convolutional layers and one final fully connected layer)."
   ]
  },
  {
   "cell_type": "code",
   "execution_count": 14,
   "metadata": {},
   "outputs": [],
   "source": [
    "class DQN_CNN(DQN):\n",
    "    def __init__(self, *args,lr=0.1,**kwargs):\n",
    "        super(DQN_CNN, self).__init__(*args,**kwargs)\n",
    "        model = Sequential()\n",
    "        model.add(Conv2D(64, kernel_size=3, input_shape=(5,5,self.n_state), activation='relu',padding='same'))\n",
    "        model.add(Conv2D(64, kernel_size=3, activation='relu',padding='same'))\n",
    "        model.add(Conv2D(32, kernel_size=1, activation='relu',padding='same'))\n",
    "        model.add(Flatten())\n",
    "        model.add(Dense(512, activation='relu'))\n",
    "        model.add(Dense(4, activation='linear'))\n",
    "        model.compile(adam(lr=lr), \"mse\")\n",
    "        self.model = model"
   ]
  },
  {
   "cell_type": "code",
   "execution_count": 15,
   "metadata": {},
   "outputs": [
    {
     "name": "stdout",
     "output_type": "stream",
     "text": [
      "Epoch 000/100 | Loss 0.1792 | Win/lose count 2.0/7.0 (-5.0)\n",
      "Epoch 001/100 | Loss 0.0568 | Win/lose count 3.5/4.0 (-0.5)\n",
      "Epoch 002/100 | Loss 0.0723 | Win/lose count 6.0/2.0 (4.0)\n",
      "Epoch 003/100 | Loss 0.0969 | Win/lose count 1.5/4.0 (-2.5)\n",
      "Epoch 004/100 | Loss 0.0164 | Win/lose count 4.5/4.0 (0.5)\n",
      "Epoch 005/100 | Loss 0.0205 | Win/lose count 5.0/4.0 (1.0)\n",
      "Epoch 006/100 | Loss 0.1049 | Win/lose count 5.0/4.0 (1.0)\n",
      "Epoch 007/100 | Loss 0.0032 | Win/lose count 4.5/2.0 (2.5)\n",
      "Epoch 008/100 | Loss 0.0033 | Win/lose count 2.0/4.0 (-2.0)\n",
      "Epoch 009/100 | Loss 0.0145 | Win/lose count 3.0/2.0 (1.0)\n",
      "Epoch 010/100 | Loss 0.0870 | Win/lose count 4.5/3.0 (1.5)\n",
      "Epoch 011/100 | Loss 0.0074 | Win/lose count 6.0/4.0 (2.0)\n",
      "Epoch 012/100 | Loss 0.0506 | Win/lose count 5.5/3.0 (2.5)\n",
      "Epoch 013/100 | Loss 0.1151 | Win/lose count 10.0/3.0 (7.0)\n",
      "Epoch 014/100 | Loss 0.0040 | Win/lose count 6.0/1.0 (5.0)\n",
      "Epoch 015/100 | Loss 0.0171 | Win/lose count 6.0/4.0 (2.0)\n",
      "Epoch 016/100 | Loss 0.0067 | Win/lose count 7.0/3.0 (4.0)\n",
      "Epoch 017/100 | Loss 0.0582 | Win/lose count 8.5/4.0 (4.5)\n",
      "Epoch 018/100 | Loss 0.1242 | Win/lose count 11.0/5.0 (6.0)\n",
      "Epoch 019/100 | Loss 0.0878 | Win/lose count 13.5/2.0 (11.5)\n",
      "Epoch 020/100 | Loss 0.0565 | Win/lose count 10.5/2.0 (8.5)\n",
      "Epoch 021/100 | Loss 0.1539 | Win/lose count 10.0/7.0 (3.0)\n",
      "Epoch 022/100 | Loss 0.0853 | Win/lose count 17.5/7.0 (10.5)\n",
      "Epoch 023/100 | Loss 0.3610 | Win/lose count 12.0/6.0 (6.0)\n",
      "Epoch 024/100 | Loss 0.2824 | Win/lose count 15.5/5.0 (10.5)\n",
      "Epoch 025/100 | Loss 0.2987 | Win/lose count 9.0/6.0 (3.0)\n",
      "Epoch 026/100 | Loss 0.1853 | Win/lose count 6.5/5.0 (1.5)\n",
      "Epoch 027/100 | Loss 0.2512 | Win/lose count 9.5/3.0 (6.5)\n",
      "Epoch 028/100 | Loss 0.2751 | Win/lose count 9.0/8.0 (1.0)\n",
      "Epoch 029/100 | Loss 0.1899 | Win/lose count 15.0/4.0 (11.0)\n",
      "Epoch 030/100 | Loss 0.0983 | Win/lose count 13.0/4.0 (9.0)\n",
      "Epoch 031/100 | Loss 0.1608 | Win/lose count 18.5/5.0 (13.5)\n",
      "Epoch 032/100 | Loss 0.1764 | Win/lose count 19.5/7.0 (12.5)\n",
      "Epoch 033/100 | Loss 0.1523 | Win/lose count 5.0/2.0 (3.0)\n",
      "Epoch 034/100 | Loss 0.0463 | Win/lose count 4.5/5.0 (-0.5)\n",
      "Epoch 035/100 | Loss 0.2786 | Win/lose count 14.5/5.0 (9.5)\n",
      "Epoch 036/100 | Loss 0.2136 | Win/lose count 8.5/7.0 (1.5)\n",
      "Epoch 037/100 | Loss 0.3383 | Win/lose count 15.0/9.0 (6.0)\n",
      "Epoch 038/100 | Loss 0.2324 | Win/lose count 16.5/6.0 (10.5)\n",
      "Epoch 039/100 | Loss 0.0961 | Win/lose count 17.0/3.0 (14.0)\n",
      "Epoch 040/100 | Loss 0.3369 | Win/lose count 11.5/6.0 (5.5)\n",
      "Epoch 041/100 | Loss 0.1018 | Win/lose count 18.0/8.0 (10.0)\n",
      "Epoch 042/100 | Loss 0.1060 | Win/lose count 16.0/6.0 (10.0)\n",
      "Epoch 043/100 | Loss 0.2047 | Win/lose count 22.0/5.0 (17.0)\n",
      "Epoch 044/100 | Loss 0.2056 | Win/lose count 14.5/5.0 (9.5)\n",
      "Epoch 045/100 | Loss 0.2235 | Win/lose count 10.5/5.0 (5.5)\n",
      "Epoch 046/100 | Loss 0.2979 | Win/lose count 12.0/6.0 (6.0)\n",
      "Epoch 047/100 | Loss 0.0515 | Win/lose count 12.0/8.0 (4.0)\n",
      "Epoch 048/100 | Loss 0.1603 | Win/lose count 5.5/1.0 (4.5)\n",
      "Epoch 049/100 | Loss 0.2359 | Win/lose count 5.0/5.0 (0.0)\n",
      "Epoch 050/100 | Loss 0.2223 | Win/lose count 15.5/4.0 (11.5)\n",
      "Epoch 051/100 | Loss 0.1304 | Win/lose count 17.5/7.0 (10.5)\n",
      "Epoch 052/100 | Loss 0.3646 | Win/lose count 9.5/3.0 (6.5)\n",
      "Epoch 053/100 | Loss 0.3268 | Win/lose count 8.5/1.0 (7.5)\n",
      "Epoch 054/100 | Loss 0.1052 | Win/lose count 10.5/5.0 (5.5)\n",
      "Epoch 055/100 | Loss 0.1976 | Win/lose count 25.5/6.0 (19.5)\n",
      "Epoch 056/100 | Loss 0.2676 | Win/lose count 19.0/8.0 (11.0)\n",
      "Epoch 057/100 | Loss 0.2285 | Win/lose count 18.5/4.0 (14.5)\n",
      "Epoch 058/100 | Loss 0.1597 | Win/lose count 13.0/7.0 (6.0)\n",
      "Epoch 059/100 | Loss 0.2195 | Win/lose count 10.0/2.0 (8.0)\n",
      "Epoch 060/100 | Loss 0.2766 | Win/lose count 21.0/4.0 (17.0)\n",
      "Epoch 061/100 | Loss 0.2557 | Win/lose count 5.0/2.0 (3.0)\n",
      "Epoch 062/100 | Loss 0.1596 | Win/lose count 10.0/2.0 (8.0)\n",
      "Epoch 063/100 | Loss 0.3939 | Win/lose count 8.5/2.0 (6.5)\n",
      "Epoch 064/100 | Loss 0.2155 | Win/lose count 17.5/7.0 (10.5)\n",
      "Epoch 065/100 | Loss 0.1625 | Win/lose count 19.5/4.0 (15.5)\n",
      "Epoch 066/100 | Loss 0.2664 | Win/lose count 14.5/2.0 (12.5)\n",
      "Epoch 067/100 | Loss 0.1077 | Win/lose count 18.0/8.0 (10.0)\n",
      "Epoch 068/100 | Loss 0.1483 | Win/lose count 4.5/6.0 (-1.5)\n",
      "Epoch 069/100 | Loss 0.2145 | Win/lose count 4.0/5.0 (-1.0)\n",
      "Epoch 070/100 | Loss 0.1938 | Win/lose count 15.0/5.0 (10.0)\n",
      "Epoch 071/100 | Loss 0.2962 | Win/lose count 17.0/6.0 (11.0)\n",
      "Epoch 072/100 | Loss 0.2287 | Win/lose count 8.0/5.0 (3.0)\n",
      "Epoch 073/100 | Loss 0.2915 | Win/lose count 18.5/10.0 (8.5)\n",
      "Epoch 074/100 | Loss 0.2250 | Win/lose count 9.0/8.0 (1.0)\n",
      "Epoch 075/100 | Loss 0.2493 | Win/lose count 7.5/6.0 (1.5)\n",
      "Epoch 076/100 | Loss 0.2012 | Win/lose count 6.5/5.0 (1.5)\n",
      "Epoch 077/100 | Loss 0.0812 | Win/lose count 7.5/2.0 (5.5)\n",
      "Epoch 078/100 | Loss 0.1098 | Win/lose count 11.5/3.0 (8.5)\n",
      "Epoch 079/100 | Loss 0.2260 | Win/lose count 22.5/5.0 (17.5)\n",
      "Epoch 080/100 | Loss 0.2529 | Win/lose count 2.5/2.0 (0.5)\n",
      "Epoch 081/100 | Loss 0.1403 | Win/lose count 9.5/8.0 (1.5)\n",
      "Epoch 082/100 | Loss 0.3490 | Win/lose count 11.5/8.0 (3.5)\n",
      "Epoch 083/100 | Loss 0.0998 | Win/lose count 16.0/3.0 (13.0)\n",
      "Epoch 084/100 | Loss 0.1041 | Win/lose count 16.0/7.0 (9.0)\n",
      "Epoch 085/100 | Loss 0.1770 | Win/lose count 24.5/1.0 (23.5)\n",
      "Epoch 086/100 | Loss 0.2373 | Win/lose count 6.5/4.0 (2.5)\n",
      "Epoch 087/100 | Loss 0.2468 | Win/lose count 10.5/5.0 (5.5)\n",
      "Epoch 088/100 | Loss 0.0592 | Win/lose count 11.0/7.0 (4.0)\n",
      "Epoch 089/100 | Loss 0.0515 | Win/lose count 7.5/4.0 (3.5)\n",
      "Epoch 090/100 | Loss 0.1589 | Win/lose count 14.0/5.0 (9.0)\n",
      "Epoch 091/100 | Loss 0.2492 | Win/lose count 7.0/3.0 (4.0)\n",
      "Epoch 092/100 | Loss 0.1807 | Win/lose count 20.5/9.0 (11.5)\n",
      "Epoch 093/100 | Loss 0.1859 | Win/lose count 12.0/10.0 (2.0)\n",
      "Epoch 094/100 | Loss 0.1553 | Win/lose count 12.5/8.0 (4.5)\n",
      "Epoch 095/100 | Loss 0.3051 | Win/lose count 17.5/4.0 (13.5)\n",
      "Epoch 096/100 | Loss 0.1652 | Win/lose count 14.0/11.0 (3.0)\n",
      "Epoch 097/100 | Loss 0.1930 | Win/lose count 6.0/3.0 (3.0)\n",
      "Epoch 098/100 | Loss 0.1099 | Win/lose count 12.0/9.0 (3.0)\n",
      "Epoch 099/100 | Loss 0.2414 | Win/lose count 14.0/6.0 (8.0)\n"
     ]
    },
    {
     "data": {
      "text/html": [
       "<video alt=\"test\" controls>\n",
       "                <source src=\"data:video/mp4;base64,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\" type=\"video/mp4\" />\n",
       "             </video>"
      ],
      "text/plain": [
       "<IPython.core.display.HTML object>"
      ]
     },
     "execution_count": 15,
     "metadata": {},
     "output_type": "execute_result"
    }
   ],
   "source": [
    "env = Environment(grid_size=size, max_time=T, temperature=0.3)\n",
    "agent = DQN_CNN(size, lr=.0005, epsilon = 0.1, memory_size=2000, batch_size = 32)\n",
    "w,l = train(agent,env,epochs_train,prefix='cnn_train')\n",
    "HTML(display_videos('cnn_train70.mp4'))"
   ]
  },
  {
   "cell_type": "code",
   "execution_count": 16,
   "metadata": {},
   "outputs": [
    {
     "data": {
      "text/plain": [
       "[<matplotlib.lines.Line2D at 0x7f183e00b990>]"
      ]
     },
     "execution_count": 16,
     "metadata": {},
     "output_type": "execute_result"
    },
    {
     "data": {
      "image/png": "[encoded data removed]",
      "text/plain": [
       "<Figure size 432x288 with 1 Axes>"
      ]
     },
     "metadata": {
      "needs_background": "light"
     },
     "output_type": "display_data"
    }
   ],
   "source": [
    "import matplotlib.pyplot as plt\n",
    "def running_mean(x, N):\n",
    "    cumsum = np.cumsum(np.insert(x, 0, 0)) \n",
    "    return (cumsum[N:] - cumsum[:-N]) / float(N)\n",
    "\n",
    "plt.plot(range(len(w)),w[:2] + list(running_mean(w,5)) + w[-2:])\n",
    "plt.plot(range(len(l)),l[:2] + list(running_mean(l,5)) + l[-2:])"
   ]
  },
  {
   "cell_type": "markdown",
   "metadata": {},
   "source": [
    "***\n",
    "***\n",
    "__Question 9__ Test both algorithms and compare their performances. Which issue(s) do you observe? Observe also different behaviors by changing the temperature."
   ]
  },
  {
   "cell_type": "code",
   "execution_count": 31,
   "metadata": {},
   "outputs": [
    {
     "name": "stdout",
     "output_type": "stream",
     "text": [
      "Test of the CNN\n",
      "Win/lose count 7.5/7.0. Average score (0.5)\n",
      "Win/lose count 3.5/3.0. Average score (0.5)\n",
      "Win/lose count 7.5/4.0. Average score (1.5)\n",
      "Final score: 1.5\n",
      "Test of the FC\n",
      "Win/lose count 2.5/4.0. Average score (-1.5)\n",
      "Win/lose count 2.0/1.0. Average score (-0.25)\n",
      "Win/lose count 5.0/2.0. Average score (0.8333333333333334)\n",
      "Final score: 0.8333333333333334\n"
     ]
    }
   ],
   "source": [
    "env = Environment(grid_size=size, max_time=T,temperature=0.3)\n",
    "agent_cnn = DQN_CNN(size, lr=.1, epsilon = 0.1, memory_size=2000, batch_size = 32)\n",
    "agent_cnn.load(name_weights='cnn_trainmodel.h5',name_model='cnn_trainmodel.json')\n",
    "\n",
    "agent_fc = DQN_FC(size, lr=.1, epsilon = 0.1, memory_size=2000, batch_size = 32)\n",
    "agent_cnn.load(name_weights='fc_trainmodel.h5',name_model='fc_trainmodel.json')\n",
    "print('Test of the CNN')\n",
    "test(agent_cnn,env,epochs_test,prefix='cnn_test')\n",
    "print('Test of the FC')\n",
    "test(agent_fc,env,epochs_test,prefix='fc_test')"
   ]
  },
  {
   "cell_type": "code",
   "execution_count": 32,
   "metadata": {},
   "outputs": [
    {
     "data": {
      "text/html": [
       "<video alt=\"test\" controls>\n",
       "                <source src=\"data:video/mp4;base64,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\" type=\"video/mp4\" />\n",
       "             </video>"
      ],
      "text/plain": [
       "<IPython.core.display.HTML object>"
      ]
     },
     "execution_count": 32,
     "metadata": {},
     "output_type": "execute_result"
    }
   ],
   "source": [
    "HTML(display_videos('cnn_test2.mp4'))"
   ]
  },
  {
   "cell_type": "code",
   "execution_count": 33,
   "metadata": {},
   "outputs": [
    {
     "data": {
      "text/html": [
       "<video alt=\"test\" controls>\n",
       "                <source src=\"data:video/mp4;base64,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\" type=\"video/mp4\" />\n",
       "             </video>"
      ],
      "text/plain": [
       "<IPython.core.display.HTML object>"
      ]
     },
     "execution_count": 33,
     "metadata": {},
     "output_type": "execute_result"
    }
   ],
   "source": [
    "HTML(display_videos('fc_test2.mp4'))"
   ]
  },
  {
   "cell_type": "markdown",
   "metadata": {},
   "source": [
    "The first issues we observe are :\n",
    "- They both tend to stay at the same place, just grabing reward near them, but don't go in other places of the grid\n",
    "- The CNN one is way better, and try sometimes more to go explore\n",
    "\n",
    "If we change the temperature :\n",
    "- When it's too low, they don't manage to know what to do. They act locally, but locally most of the time there is not much reward. Similarly when trianing they tend to not learn anything because they never have good reward and don't manage tu curb the behavior to go fetch some (it might require a larger epsilon, or way more epochs)\n",
    "- When it's high, the CNN manage to follow path of high temperature and lose the local search. The FC model behaves relatively the same."
   ]
  },
  {
   "cell_type": "markdown",
   "metadata": {},
   "source": [
    "***\n",
    "\n",
    "The algorithm tends to not explore the map which can be an issue. We propose two ideas in order to encourage exploration:\n",
    "1. Incorporating a decreasing $\\epsilon$-greedy exploration. You can use the method ```set_epsilon```\n",
    "2. Append via the environment a new state that describes if a cell has been visited or not\n",
    "\n",
    "***\n",
    "__Question 10__ Design a new ```train_explore``` function and environment class ```EnvironmentExploring``` to tackle the issue of exploration.\n",
    "\n"
   ]
  },
  {
   "cell_type": "code",
   "execution_count": 45,
   "metadata": {},
   "outputs": [],
   "source": [
    "def train_explore(agent,env,epoch,prefix=''):\n",
    "    # Number of won games\n",
    "    score = 0\n",
    "    loss = 0\n",
    "    wins = []\n",
    "    losses = []\n",
    "    for e in range(epoch):\n",
    "        # At each epoch, we restart to a fresh game and get the initial state\n",
    "        state = env.reset()\n",
    "        # This assumes that the games will terminate\n",
    "        game_over = False\n",
    "\n",
    "        win = 0\n",
    "        lose = 0\n",
    "\n",
    "        while not game_over:\n",
    "            # The agent performs an action\n",
    "            action = agent.act(state)\n",
    "\n",
    "            # Apply an action to the environment, get the next state, the reward\n",
    "            # and if the games end\n",
    "            prev_state = state\n",
    "            state, reward, game_over = env.act(action, train=True)\n",
    "\n",
    "            # Update the counters\n",
    "            if reward > 0:\n",
    "                win = win + reward\n",
    "            if reward < 0:\n",
    "                lose = lose -reward\n",
    "\n",
    "            # Apply the reinforcement strategy\n",
    "            loss = agent.reinforce(prev_state, state,  action, reward, game_over)\n",
    "\n",
    "        # Save as a mp4\n",
    "        if e % 10 == 0:\n",
    "            env.draw(prefix+str(e))\n",
    "        \n",
    "        agent.set_epsilon(max((1-3e-2)*agent.epsilon,0.05))\n",
    "\n",
    "        # Update stats\n",
    "        score += win-lose\n",
    "\n",
    "        print(\"Epoch {:03d}/{:03d} | Loss {:.4f} | Win/lose count {}/{} ({})\"\n",
    "              .format(e, epoch, loss, win, lose, win-lose))\n",
    "        agent.save(name_weights=prefix+'model.h5',name_model=prefix+'model.json')\n",
    "        wins.append(win)\n",
    "        losses.append(lose)\n",
    "    return wins, losses\n",
    "        "
   ]
  },
  {
   "cell_type": "code",
   "execution_count": 46,
   "metadata": {},
   "outputs": [],
   "source": [
    "class EnvironmentExploring(Environment):\n",
    "    def __init__(self, grid_size=10, max_time=500, temperature=0.1):\n",
    "        Environment.__init__(self,grid_size=grid_size, max_time=max_time, temperature=temperature)\n",
    "        self.malus_position = np.zeros((grid_size,grid_size))\n",
    "    def reset(self):\n",
    "        \"\"\"This function resets the game and returns the initial state\"\"\"\n",
    "\n",
    "        self.x = np.random.randint(3, self.grid_size-3, size=1)[0]\n",
    "        self.y = np.random.randint(3, self.grid_size-3, size=1)[0]\n",
    "\n",
    "\n",
    "        bonus = 0.5*np.random.binomial(1,self.temperature,size=self.grid_size**2)\n",
    "        bonus = bonus.reshape(self.grid_size,self.grid_size)\n",
    "\n",
    "        malus = -1.0*np.random.binomial(1,self.temperature,size=self.grid_size**2)\n",
    "        malus = malus.reshape(self.grid_size, self.grid_size)\n",
    "\n",
    "        self.to_draw = np.zeros((self.max_time+2, self.grid_size*self.scale, self.grid_size*self.scale, 3))\n",
    "\n",
    "\n",
    "        malus[bonus>0]=0\n",
    "\n",
    "        self.board = bonus + malus\n",
    "\n",
    "        self.position = np.zeros((self.grid_size, self.grid_size))\n",
    "        self.position[0:2,:]= -1\n",
    "        self.position[:,0:2] = -1\n",
    "        self.position[-2:, :] = -1\n",
    "        self.position[-2:, :] = -1\n",
    "        self.board[self.x,self.y] = 0\n",
    "        self.t = 0\n",
    "        self.malus_position = np.zeros((self.grid_size,self.grid_size))\n",
    "\n",
    "        state = np.concatenate((self.malus_position.reshape(self.grid_size, self.grid_size,1),\n",
    "                            self.board.reshape(self.grid_size, self.grid_size,1),\n",
    "                            self.position.reshape(self.grid_size, self.grid_size,1)),axis=2)\n",
    "\n",
    "        state = state[self.x - 2:self.x + 3, self.y - 2:self.y + 3, :]\n",
    "        return state\n",
    "    def act(self, action, train=False):\n",
    "            \"\"\"This function returns the new state, reward and decides if the\n",
    "            game ends.\"\"\"\n",
    "\n",
    "            self.get_frame(int(self.t))\n",
    "\n",
    "            self.position = np.zeros((self.grid_size, self.grid_size))\n",
    "\n",
    "            self.position[0:2,:]= -1\n",
    "            self.position[:,0:2] = -1\n",
    "            self.position[-2:, :] = -1\n",
    "            self.position[-2:, :] = -1\n",
    "\n",
    "            self.position[self.x, self.y] = 1\n",
    "            if action == 0:\n",
    "                if self.x == self.grid_size-3:\n",
    "                    self.x = self.x-1\n",
    "                else:\n",
    "                    self.x = self.x + 1\n",
    "            elif action == 1:\n",
    "                if self.x == 2:\n",
    "                    self.x = self.x+1\n",
    "                else:\n",
    "                    self.x = self.x-1\n",
    "            elif action == 2:\n",
    "                if self.y == self.grid_size - 3:\n",
    "                    self.y = self.y - 1\n",
    "                else:\n",
    "                    self.y = self.y + 1\n",
    "            elif action == 3:\n",
    "                if self.y == 2:\n",
    "                    self.y = self.y + 1\n",
    "                else:\n",
    "                    self.y = self.y - 1\n",
    "            else:\n",
    "                RuntimeError('Error: action not recognized')\n",
    "\n",
    "            self.t = self.t + 1\n",
    "            reward = self.board[self.x, self.y]\n",
    "            if train:\n",
    "                reward -= self.malus_position[self.x, self.y]\n",
    "            self.malus_position[self.x, self.y] = 0.1\n",
    "            self.board[self.x, self.y] = 0\n",
    "            game_over = self.t > self.max_time\n",
    "            state = np.concatenate((self.malus_position.reshape(self.grid_size, self.grid_size,1),\n",
    "                                self.board.reshape(self.grid_size, self.grid_size,1),\n",
    "                                self.position.reshape(self.grid_size, self.grid_size,1)),axis=2)\n",
    "            state = state[self.x-2:self.x+3,self.y-2:self.y+3,:]\n",
    "            return state, reward, game_over"
   ]
  },
  {
   "cell_type": "code",
   "execution_count": 47,
   "metadata": {},
   "outputs": [
    {
     "name": "stdout",
     "output_type": "stream",
     "text": [
      "Epoch 000/100 | Loss 0.0256 | Win/lose count 8.5/23.900000000000055 (-15.400000000000055)\n",
      "Epoch 001/100 | Loss 0.0414 | Win/lose count 9.5/19.800000000000008 (-10.300000000000008)\n",
      "Epoch 002/100 | Loss 0.0491 | Win/lose count 13.0/17.29999999999998 (-4.299999999999979)\n",
      "Epoch 003/100 | Loss 0.0844 | Win/lose count 7.5/21.20000000000004 (-13.700000000000038)\n",
      "Epoch 004/100 | Loss 0.0591 | Win/lose count 14.0/24.200000000000045 (-10.200000000000045)\n",
      "Epoch 005/100 | Loss 0.0091 | Win/lose count 6.0/24.300000000000047 (-18.300000000000047)\n",
      "Epoch 006/100 | Loss 0.0094 | Win/lose count 13.5/20.30000000000001 (-6.800000000000011)\n",
      "Epoch 007/100 | Loss 0.0942 | Win/lose count 10.0/23.600000000000076 (-13.600000000000076)\n",
      "Epoch 008/100 | Loss 0.1239 | Win/lose count 9.0/20.80000000000004 (-11.80000000000004)\n",
      "Epoch 009/100 | Loss 0.0117 | Win/lose count 10.5/25.10000000000006 (-14.600000000000058)\n",
      "Epoch 010/100 | Loss 0.0759 | Win/lose count 11.5/23.20000000000003 (-11.700000000000031)\n",
      "Epoch 011/100 | Loss 0.1655 | Win/lose count 5.5/22.50000000000003 (-17.00000000000003)\n",
      "Epoch 012/100 | Loss 0.0199 | Win/lose count 11.0/21.500000000000018 (-10.500000000000018)\n",
      "Epoch 013/100 | Loss 0.0607 | Win/lose count 13.0/20.600000000000044 (-7.600000000000044)\n",
      "Epoch 014/100 | Loss 0.1037 | Win/lose count 14.0/24.900000000000084 (-10.900000000000084)\n",
      "Epoch 015/100 | Loss 0.1178 | Win/lose count 9.5/25.300000000000097 (-15.800000000000097)\n",
      "Epoch 016/100 | Loss 0.0228 | Win/lose count 9.0/23.000000000000036 (-14.000000000000036)\n",
      "Epoch 017/100 | Loss 0.0671 | Win/lose count 12.0/28.000000000000096 (-16.000000000000096)\n",
      "Epoch 018/100 | Loss 0.1184 | Win/lose count 15.0/22.400000000000023 (-7.4000000000000234)\n",
      "Epoch 019/100 | Loss 0.0727 | Win/lose count 17.0/18.700000000000014 (-1.7000000000000135)\n",
      "Epoch 020/100 | Loss 0.1938 | Win/lose count 12.0/27.400000000000084 (-15.400000000000084)\n",
      "Epoch 021/100 | Loss 0.1173 | Win/lose count 11.5/25.700000000000074 (-14.200000000000074)\n",
      "Epoch 022/100 | Loss 0.0650 | Win/lose count 7.0/24.50000000000004 (-17.50000000000004)\n",
      "Epoch 023/100 | Loss 0.0984 | Win/lose count 9.0/21.7 (-12.7)\n",
      "Epoch 024/100 | Loss 0.0640 | Win/lose count 20.5/25.500000000000046 (-5.000000000000046)\n",
      "Epoch 025/100 | Loss 0.2625 | Win/lose count 14.5/21.70000000000003 (-7.200000000000031)\n",
      "Epoch 026/100 | Loss 0.1701 | Win/lose count 11.5/21.400000000000013 (-9.900000000000013)\n",
      "Epoch 027/100 | Loss 0.0654 | Win/lose count 16.5/20.90000000000001 (-4.400000000000009)\n",
      "Epoch 028/100 | Loss 0.1066 | Win/lose count 15.0/20.900000000000034 (-5.900000000000034)\n",
      "Epoch 029/100 | Loss 0.0674 | Win/lose count 11.5/18.2 (-6.699999999999999)\n",
      "Epoch 030/100 | Loss 0.1352 | Win/lose count 5.0/21.600000000000048 (-16.600000000000048)\n",
      "Epoch 031/100 | Loss 0.1288 | Win/lose count 21.0/18.49999999999998 (2.5000000000000213)\n",
      "Epoch 032/100 | Loss 0.1950 | Win/lose count 17.0/22.70000000000001 (-5.70000000000001)\n",
      "Epoch 033/100 | Loss 0.2647 | Win/lose count 21.0/22.800000000000068 (-1.8000000000000682)\n",
      "Epoch 034/100 | Loss 0.0533 | Win/lose count 13.5/19.800000000000015 (-6.300000000000015)\n",
      "Epoch 035/100 | Loss 0.3598 | Win/lose count 13.5/22.60000000000007 (-9.100000000000069)\n",
      "Epoch 036/100 | Loss 0.3157 | Win/lose count 19.0/23.900000000000055 (-4.900000000000055)\n",
      "Epoch 037/100 | Loss 0.2911 | Win/lose count 17.5/18.700000000000003 (-1.2000000000000028)\n",
      "Epoch 038/100 | Loss 0.2861 | Win/lose count 6.0/20.50000000000003 (-14.500000000000028)\n",
      "Epoch 039/100 | Loss 0.3030 | Win/lose count 10.5/25.30000000000006 (-14.800000000000061)\n",
      "Epoch 040/100 | Loss 0.4168 | Win/lose count 8.0/23.000000000000046 (-15.000000000000046)\n",
      "Epoch 041/100 | Loss 0.1426 | Win/lose count 13.0/21.500000000000032 (-8.500000000000032)\n",
      "Epoch 042/100 | Loss 0.2970 | Win/lose count 12.0/21.00000000000005 (-9.00000000000005)\n",
      "Epoch 043/100 | Loss 0.2434 | Win/lose count 17.0/21.00000000000003 (-4.000000000000028)\n",
      "Epoch 044/100 | Loss 0.1347 | Win/lose count 11.5/18.699999999999992 (-7.199999999999992)\n",
      "Epoch 045/100 | Loss 0.0042 | Win/lose count 9.0/17.59999999999998 (-8.59999999999998)\n",
      "Epoch 046/100 | Loss 0.1165 | Win/lose count 15.5/18.399999999999988 (-2.899999999999988)\n",
      "Epoch 047/100 | Loss 0.0923 | Win/lose count 24.0/16.399999999999974 (7.600000000000026)\n",
      "Epoch 048/100 | Loss 0.0653 | Win/lose count 16.0/24.60000000000003 (-8.60000000000003)\n",
      "Epoch 049/100 | Loss 0.2909 | Win/lose count 4.0/26.900000000000055 (-22.900000000000055)\n",
      "Epoch 050/100 | Loss 0.2459 | Win/lose count 11.5/25.700000000000067 (-14.200000000000067)\n",
      "Epoch 051/100 | Loss 0.3264 | Win/lose count 11.0/16.899999999999977 (-5.899999999999977)\n",
      "Epoch 052/100 | Loss 0.1366 | Win/lose count 12.5/20.300000000000008 (-7.800000000000008)\n",
      "Epoch 053/100 | Loss 0.2835 | Win/lose count 14.0/17.799999999999994 (-3.7999999999999936)\n",
      "Epoch 054/100 | Loss 0.2528 | Win/lose count 11.5/21.60000000000005 (-10.100000000000051)\n",
      "Epoch 055/100 | Loss 0.1992 | Win/lose count 19.0/22.10000000000004 (-3.1000000000000405)\n",
      "Epoch 056/100 | Loss 0.0928 | Win/lose count 18.5/16.599999999999973 (1.900000000000027)\n",
      "Epoch 057/100 | Loss 0.2398 | Win/lose count 14.0/21.600000000000012 (-7.600000000000012)\n",
      "Epoch 058/100 | Loss 0.1608 | Win/lose count 20.5/16.999999999999986 (3.500000000000014)\n",
      "Epoch 059/100 | Loss 0.0827 | Win/lose count 11.5/23.10000000000003 (-11.60000000000003)\n",
      "Epoch 060/100 | Loss 0.0629 | Win/lose count 13.0/16.699999999999974 (-3.6999999999999744)\n",
      "Epoch 061/100 | Loss 0.2905 | Win/lose count 18.0/20.600000000000016 (-2.6000000000000156)\n",
      "Epoch 062/100 | Loss 0.1645 | Win/lose count 15.5/21.80000000000001 (-6.300000000000011)\n",
      "Epoch 063/100 | Loss 0.3095 | Win/lose count 23.0/22.900000000000052 (0.09999999999994813)\n",
      "Epoch 064/100 | Loss 0.3596 | Win/lose count 18.5/18.400000000000006 (0.09999999999999432)\n",
      "Epoch 065/100 | Loss 0.2554 | Win/lose count 11.0/24.100000000000026 (-13.100000000000026)\n",
      "Epoch 066/100 | Loss 0.2128 | Win/lose count 14.0/17.39999999999997 (-3.39999999999997)\n",
      "Epoch 067/100 | Loss 0.0909 | Win/lose count 17.0/18.099999999999987 (-1.0999999999999872)\n",
      "Epoch 068/100 | Loss 0.2301 | Win/lose count 18.5/21.20000000000001 (-2.70000000000001)\n",
      "Epoch 069/100 | Loss 0.2540 | Win/lose count 17.0/20.200000000000014 (-3.2000000000000135)\n",
      "Epoch 070/100 | Loss 0.2489 | Win/lose count 15.5/19.30000000000001 (-3.8000000000000114)\n",
      "Epoch 071/100 | Loss 0.0975 | Win/lose count 15.0/22.89999999999999 (-7.8999999999999915)\n",
      "Epoch 072/100 | Loss 0.1950 | Win/lose count 15.0/16.799999999999976 (-1.7999999999999758)\n",
      "Epoch 073/100 | Loss 0.2516 | Win/lose count 7.5/18.399999999999995 (-10.899999999999995)\n",
      "Epoch 074/100 | Loss 0.2115 | Win/lose count 14.0/15.199999999999964 (-1.1999999999999638)\n",
      "Epoch 075/100 | Loss 0.1528 | Win/lose count 10.0/23.30000000000001 (-13.300000000000011)\n",
      "Epoch 076/100 | Loss 0.2995 | Win/lose count 4.5/20.70000000000002 (-16.20000000000002)\n",
      "Epoch 077/100 | Loss 0.3005 | Win/lose count 12.0/19.100000000000016 (-7.100000000000016)\n",
      "Epoch 078/100 | Loss 0.0740 | Win/lose count 9.5/21.10000000000004 (-11.60000000000004)\n",
      "Epoch 079/100 | Loss 0.1385 | Win/lose count 22.0/23.000000000000064 (-1.000000000000064)\n",
      "Epoch 080/100 | Loss 0.2345 | Win/lose count 16.0/24.500000000000043 (-8.500000000000043)\n",
      "Epoch 081/100 | Loss 0.1855 | Win/lose count 9.0/19.90000000000002 (-10.90000000000002)\n",
      "Epoch 082/100 | Loss 0.1318 | Win/lose count 5.0/21.60000000000003 (-16.60000000000003)\n",
      "Epoch 083/100 | Loss 0.0618 | Win/lose count 21.0/16.49999999999998 (4.500000000000021)\n",
      "Epoch 084/100 | Loss 0.2903 | Win/lose count 8.0/17.599999999999984 (-9.599999999999984)\n",
      "Epoch 085/100 | Loss 0.2507 | Win/lose count 13.5/16.799999999999976 (-3.299999999999976)\n",
      "Epoch 086/100 | Loss 0.3504 | Win/lose count 22.5/15.899999999999967 (6.600000000000033)\n",
      "Epoch 087/100 | Loss 0.5569 | Win/lose count 7.5/21.30000000000004 (-13.80000000000004)\n",
      "Epoch 088/100 | Loss 0.1661 | Win/lose count 13.5/15.999999999999963 (-2.4999999999999627)\n",
      "Epoch 089/100 | Loss 0.2175 | Win/lose count 13.0/19.600000000000023 (-6.600000000000023)\n",
      "Epoch 090/100 | Loss 0.0870 | Win/lose count 12.5/18.29999999999999 (-5.79999999999999)\n",
      "Epoch 091/100 | Loss 0.1067 | Win/lose count 13.5/18.600000000000005 (-5.100000000000005)\n"
     ]
    },
    {
     "name": "stdout",
     "output_type": "stream",
     "text": [
      "Epoch 092/100 | Loss 0.2432 | Win/lose count 19.0/19.49999999999997 (-0.4999999999999716)\n",
      "Epoch 093/100 | Loss 0.1379 | Win/lose count 15.0/21.700000000000042 (-6.700000000000042)\n",
      "Epoch 094/100 | Loss 0.1500 | Win/lose count 14.5/19.6 (-5.100000000000001)\n",
      "Epoch 095/100 | Loss 0.1012 | Win/lose count 7.5/19.5 (-12.0)\n",
      "Epoch 096/100 | Loss 0.0220 | Win/lose count 9.5/21.700000000000056 (-12.200000000000056)\n",
      "Epoch 097/100 | Loss 0.1590 | Win/lose count 14.0/20.000000000000025 (-6.000000000000025)\n",
      "Epoch 098/100 | Loss 0.1733 | Win/lose count 11.0/17.399999999999984 (-6.399999999999984)\n",
      "Epoch 099/100 | Loss 0.1858 | Win/lose count 14.5/17.49999999999997 (-2.9999999999999716)\n"
     ]
    },
    {
     "data": {
      "text/html": [
       "<video alt=\"test\" controls>\n",
       "                <source src=\"data:video/mp4;base64,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\" type=\"video/mp4\" />\n",
       "             </video>"
      ],
      "text/plain": [
       "<IPython.core.display.HTML object>"
      ]
     },
     "execution_count": 47,
     "metadata": {},
     "output_type": "execute_result"
    }
   ],
   "source": [
    "# Training\n",
    "env = EnvironmentExploring(grid_size=size, max_time=T, temperature=0.3)\n",
    "agent = DQN_CNN(size, lr=.0001, epsilon = 0.5, memory_size=2000, batch_size = 32,n_state=3)\n",
    "train_explore(agent, env, epochs_train, prefix='cnn_train_explore')\n",
    "HTML(display_videos('cnn_train_explore10.mp4'))"
   ]
  },
  {
   "cell_type": "code",
   "execution_count": 52,
   "metadata": {},
   "outputs": [
    {
     "name": "stdout",
     "output_type": "stream",
     "text": [
      "Win/lose count 1.5/1.0. Average score (0.5)\n",
      "Win/lose count 5.5/6.0. Average score (0.0)\n",
      "Win/lose count 5.5/5.0. Average score (0.16666666666666666)\n",
      "Final score: 0.16666666666666666\n"
     ]
    },
    {
     "data": {
      "text/html": [
       "<video alt=\"test\" controls>\n",
       "                <source src=\"data:video/mp4;base64,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\" type=\"video/mp4\" />\n",
       "             </video>"
      ],
      "text/plain": [
       "<IPython.core.display.HTML object>"
      ]
     },
     "execution_count": 52,
     "metadata": {},
     "output_type": "execute_result"
    }
   ],
   "source": [
    "# Evaluation\n",
    "env = EnvironmentExploring(grid_size=size, max_time=T, temperature=0.3)\n",
    "agent = DQN_CNN(size, lr=.0001, epsilon = 0.25, memory_size=2000, batch_size = 32,n_state=3)\n",
    "test(agent,env,epochs_test,prefix='cnn_test_explore')\n",
    "HTML(display_videos('cnn_test_explore2.mp4'))"
   ]
  },
  {
   "cell_type": "markdown",
   "metadata": {},
   "source": [
    "***\n",
    "***\n",
    "__BONUS question__ Use the expert DQN from the previous question to generate some winning games. Train a model that mimicks its behavior. Compare the performances."
   ]
  },
  {
   "cell_type": "markdown",
   "metadata": {},
   "source": []
  },
  {
   "cell_type": "markdown",
   "metadata": {},
   "source": [
    "***"
   ]
  }
 ],
 "metadata": {
  "kernelspec": {
   "display_name": "Python 3.7.6 64-bit ('base': conda)",
   "language": "python",
   "name": "python37664bitbasecondab003be3b3cc14792a70909b28513a836"
  },
  "language_info": {
   "codemirror_mode": {
    "name": "ipython",
    "version": 3
   },
   "file_extension": ".py",
   "mimetype": "text/x-python",
   "name": "python",
   "nbconvert_exporter": "python",
   "pygments_lexer": "ipython3",
   "version": "3.7.6-final"
  }
 },
 "nbformat": 4,
 "nbformat_minor": 2
}